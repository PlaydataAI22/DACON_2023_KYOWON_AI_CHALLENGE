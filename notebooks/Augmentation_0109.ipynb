{
  "cells": [
    {
      "cell_type": "code",
      "execution_count": 16,
      "metadata": {
        "colab": {
          "base_uri": "https://localhost:8080/"
        },
        "id": "xMak-8-UH8-l",
        "outputId": "79e5e632-ebba-4a11-e6a6-ec278ca5228b"
      },
      "outputs": [],
      "source": [
        "# from google.colab import drive\n",
        "# drive.mount('/content/drive')"
      ]
    },
    {
      "cell_type": "code",
      "execution_count": 20,
      "metadata": {
        "colab": {
          "base_uri": "https://localhost:8080/"
        },
        "id": "B0KAzZMnIhNC",
        "outputId": "3ca1531c-389e-4ef0-9185-5bf542a70277"
      },
      "outputs": [],
      "source": [
        "# !unzip /content/drive/MyDrive/OCR/trainset/train_pt.zip -d /content"
      ]
    },
    {
      "cell_type": "code",
      "execution_count": 1,
      "metadata": {
        "colab": {
          "base_uri": "https://localhost:8080/",
          "height": 424
        },
        "id": "s9F0UOmuIjGi",
        "outputId": "131ee6f6-eda5-4760-d8d8-db63366460a4"
      },
      "outputs": [
        {
          "data": {
            "text/html": [
              "<div>\n",
              "<style scoped>\n",
              "    .dataframe tbody tr th:only-of-type {\n",
              "        vertical-align: middle;\n",
              "    }\n",
              "\n",
              "    .dataframe tbody tr th {\n",
              "        vertical-align: top;\n",
              "    }\n",
              "\n",
              "    .dataframe thead th {\n",
              "        text-align: right;\n",
              "    }\n",
              "</style>\n",
              "<table border=\"1\" class=\"dataframe\">\n",
              "  <thead>\n",
              "    <tr style=\"text-align: right;\">\n",
              "      <th></th>\n",
              "      <th>id</th>\n",
              "      <th>img_path</th>\n",
              "      <th>label</th>\n",
              "    </tr>\n",
              "  </thead>\n",
              "  <tbody>\n",
              "    <tr>\n",
              "      <th>0</th>\n",
              "      <td>TRAIN_00000</td>\n",
              "      <td>./train/TRAIN_00000.png</td>\n",
              "      <td>빨간색</td>\n",
              "    </tr>\n",
              "    <tr>\n",
              "      <th>1</th>\n",
              "      <td>TRAIN_00001</td>\n",
              "      <td>./train/TRAIN_00001.png</td>\n",
              "      <td>머</td>\n",
              "    </tr>\n",
              "    <tr>\n",
              "      <th>2</th>\n",
              "      <td>TRAIN_00002</td>\n",
              "      <td>./train/TRAIN_00002.png</td>\n",
              "      <td>차차</td>\n",
              "    </tr>\n",
              "    <tr>\n",
              "      <th>3</th>\n",
              "      <td>TRAIN_00003</td>\n",
              "      <td>./train/TRAIN_00003.png</td>\n",
              "      <td>써</td>\n",
              "    </tr>\n",
              "    <tr>\n",
              "      <th>4</th>\n",
              "      <td>TRAIN_00004</td>\n",
              "      <td>./train/TRAIN_00004.png</td>\n",
              "      <td>놓치다</td>\n",
              "    </tr>\n",
              "    <tr>\n",
              "      <th>...</th>\n",
              "      <td>...</td>\n",
              "      <td>...</td>\n",
              "      <td>...</td>\n",
              "    </tr>\n",
              "    <tr>\n",
              "      <th>68114</th>\n",
              "      <td>TRAIN_76882</td>\n",
              "      <td>./train/TRAIN_76882.png</td>\n",
              "      <td>하나하나</td>\n",
              "    </tr>\n",
              "    <tr>\n",
              "      <th>68115</th>\n",
              "      <td>TRAIN_76883</td>\n",
              "      <td>./train/TRAIN_76883.png</td>\n",
              "      <td>회</td>\n",
              "    </tr>\n",
              "    <tr>\n",
              "      <th>68116</th>\n",
              "      <td>TRAIN_76884</td>\n",
              "      <td>./train/TRAIN_76884.png</td>\n",
              "      <td>겪다</td>\n",
              "    </tr>\n",
              "    <tr>\n",
              "      <th>68117</th>\n",
              "      <td>TRAIN_76885</td>\n",
              "      <td>./train/TRAIN_76885.png</td>\n",
              "      <td>벨트</td>\n",
              "    </tr>\n",
              "    <tr>\n",
              "      <th>68118</th>\n",
              "      <td>TRAIN_76887</td>\n",
              "      <td>./train/TRAIN_76887.png</td>\n",
              "      <td>자리</td>\n",
              "    </tr>\n",
              "  </tbody>\n",
              "</table>\n",
              "<p>68119 rows × 3 columns</p>\n",
              "</div>"
            ],
            "text/plain": [
              "                id                 img_path label\n",
              "0      TRAIN_00000  ./train/TRAIN_00000.png   빨간색\n",
              "1      TRAIN_00001  ./train/TRAIN_00001.png     머\n",
              "2      TRAIN_00002  ./train/TRAIN_00002.png    차차\n",
              "3      TRAIN_00003  ./train/TRAIN_00003.png     써\n",
              "4      TRAIN_00004  ./train/TRAIN_00004.png   놓치다\n",
              "...            ...                      ...   ...\n",
              "68114  TRAIN_76882  ./train/TRAIN_76882.png  하나하나\n",
              "68115  TRAIN_76883  ./train/TRAIN_76883.png     회\n",
              "68116  TRAIN_76884  ./train/TRAIN_76884.png    겪다\n",
              "68117  TRAIN_76885  ./train/TRAIN_76885.png    벨트\n",
              "68118  TRAIN_76887  ./train/TRAIN_76887.png    자리\n",
              "\n",
              "[68119 rows x 3 columns]"
            ]
          },
          "execution_count": 1,
          "metadata": {},
          "output_type": "execute_result"
        }
      ],
      "source": [
        "import pandas as pd\n",
        "df = pd.read_csv(\"./train_for_pt.csv\")\n",
        "df"
      ]
    },
    {
      "cell_type": "code",
      "execution_count": 2,
      "metadata": {
        "colab": {
          "base_uri": "https://localhost:8080/"
        },
        "id": "285oOCNwIlRV",
        "outputId": "5dd37d0f-ca53-4119-840e-adca75c4540e"
      },
      "outputs": [],
      "source": [
        "# !pip install straug\n",
        "# !apt install imagemagick"
      ]
    },
    {
      "cell_type": "code",
      "execution_count": 3,
      "metadata": {
        "id": "8W93ex1MIoJW"
      },
      "outputs": [
        {
          "name": "stderr",
          "output_type": "stream",
          "text": [
            "/opt/homebrew/Caskroom/miniforge/base/envs/tr/lib/python3.8/site-packages/tqdm/auto.py:22: TqdmWarning: IProgress not found. Please update jupyter and ipywidgets. See https://ipywidgets.readthedocs.io/en/stable/user_install.html\n",
            "  from .autonotebook import tqdm as notebook_tqdm\n"
          ]
        }
      ],
      "source": [
        "# 에러시 런타임 -> 런타임 다시 시작 후 여기부터 다시 실행\n",
        "from straug.geometry import Rotate\n",
        "from straug.noise import GaussianNoise\n",
        "from straug.blur import DefocusBlur\n",
        "from straug.camera import JpegCompression, Pixelate\n",
        "\n",
        "import cv2\n",
        "import matplotlib.pyplot as plt\n",
        "from PIL import Image\n",
        "import pandas as pd\n",
        "import numpy as np\n",
        "import random"
      ]
    },
    {
      "cell_type": "code",
      "execution_count": 4,
      "metadata": {
        "id": "J5M6gNN7Qtd7"
      },
      "outputs": [],
      "source": [
        "np.array([[1,random.choices([0.1,-0.1, 0.2, -0.2], weights = [0.25, 0.25, 0.25, 0.25])[0],1]])\n",
        "\n",
        "def f1(src, kernel_size=3):\n",
        "    h,w,c = src.shape\n",
        "    filtered_img = np.array(src)[:,:,0].view()\n",
        "    filtered_img = filtered_img.reshape(h,w,1)\n",
        "    \n",
        "    for i in range((kernel_size//2), h-(kernel_size//2)):\n",
        "        for j in range((kernel_size//2), w-(kernel_size//2)):\n",
        "\n",
        "            middle_point = random.choices([1,2,3], weights = [0.5, 0.3, 0.2])[0]\n",
        "            \n",
        "#             kernel = np.array([[1,1,1],[1,middle_point,1],[1,1,1]])\n",
        "            kernel_top = np.random.randint(0,1,size=[1,3])\n",
        "            kernel_mid = np.array([[0,random.choices([1,1.5, 2, 3], weights = [0.4, 0.3, 0.2, 0.1])[0],0]])\n",
        "            kernel_bottom = np.random.randint(0,1,size=[1,3])\n",
        "            \n",
        "            kernel = np.concatenate((kernel_top, kernel_mid, kernel_bottom))\n",
        "\n",
        "            filtered_img[i, j] = int(np.clip(np.sum(np.multiply(src[i-(kernel_size//2):i+(kernel_size//2)+1, j-(kernel_size//2):j+(kernel_size//2)+1, 0], kernel)), 0, 255))\n",
        "            \n",
        "    filtered_img = np.repeat(filtered_img, repeats=3, axis=2)\n",
        "    return filtered_img"
      ]
    },
    {
      "cell_type": "code",
      "execution_count": 5,
      "metadata": {
        "id": "xokkHdySQ7-F"
      },
      "outputs": [],
      "source": [
        "def f2(src):\n",
        "  h,w,c = src.shape\n",
        "\n",
        "  img = cv2.resize(src, (w//3, h//3))\n",
        "  img = cv2.resize(img, (w, h))\n",
        "  return img"
      ]
    },
    {
      "cell_type": "code",
      "execution_count": 6,
      "metadata": {
        "id": "wxUDJyI1REoK"
      },
      "outputs": [],
      "source": [
        "def f3(src):\n",
        "    h,w,c = src.shape\n",
        "    noise = np.random.randint(-55,0, size=(h,w,1))\n",
        "    noise2 = np.append(noise, noise, axis=2)\n",
        "    noise_type1 = np.append(noise2, noise, axis=2)\n",
        "    return np.clip(noise_type1+src, 0, 255)"
      ]
    },
    {
      "cell_type": "code",
      "execution_count": 7,
      "metadata": {
        "id": "vTfnhdiZRWo_"
      },
      "outputs": [],
      "source": [
        "def rotate(src):\n",
        "    aug_prob = 1 # 원하는 확률 선택\n",
        "    if random.random() < aug_prob:\n",
        "        img = Rotate()(src.convert(\"LA\"))\n",
        "    return img"
      ]
    },
    {
      "cell_type": "code",
      "execution_count": 8,
      "metadata": {
        "id": "H4eTvYLXIqGD"
      },
      "outputs": [],
      "source": [
        "df = pd.read_csv(\"./train_for_pt.csv\")"
      ]
    },
    {
      "cell_type": "code",
      "execution_count": 29,
      "metadata": {
        "colab": {
          "base_uri": "https://localhost:8080/"
        },
        "id": "bv6wlbeNIrkt",
        "outputId": "31202b94-3681-431d-bc60-1d8a9e7baaf3"
      },
      "outputs": [],
      "source": [
        "# %cd /content/parseq"
      ]
    },
    {
      "cell_type": "code",
      "execution_count": 9,
      "metadata": {
        "colab": {
          "base_uri": "https://localhost:8080/",
          "height": 87
        },
        "id": "F3dIeNg-FGK4",
        "outputId": "4e43ac11-64bc-4834-92d2-c7da576f09df"
      },
      "outputs": [
        {
          "data": {
            "image/png": "[encoded data removed]",
            "text/plain": [
              "<Figure size 640x480 with 5 Axes>"
            ]
          },
          "metadata": {},
          "output_type": "display_data"
        }
      ],
      "source": [
        "img = Image.open(f'{df[\"img_path\"][0]}')\n",
        "ar = np.array(img)\n",
        "\n",
        "aug1 = f1(ar)\n",
        "aug2 = f2(ar)\n",
        "aug3 = f3(ar)\n",
        "\n",
        "rot = rotate(img)\n",
        "rot2 = rotate(img)\n",
        "\n",
        "plt.subplot(151)\n",
        "plt.imshow(aug1)\n",
        "plt.subplot(152)\n",
        "plt.imshow(aug2)\n",
        "plt.subplot(153)\n",
        "plt.imshow(aug3)\n",
        "plt.subplot(154)\n",
        "plt.imshow(rot)\n",
        "plt.subplot(155)\n",
        "plt.imshow(rot2)\n",
        "plt.show()"
      ]
    },
    {
      "cell_type": "code",
      "execution_count": 10,
      "metadata": {
        "colab": {
          "base_uri": "https://localhost:8080/",
          "height": 424
        },
        "id": "ReKGEsM8Is8T",
        "outputId": "c11b8006-8c63-4108-9e9d-9244b2f558f3"
      },
      "outputs": [
        {
          "data": {
            "text/html": [
              "<div>\n",
              "<style scoped>\n",
              "    .dataframe tbody tr th:only-of-type {\n",
              "        vertical-align: middle;\n",
              "    }\n",
              "\n",
              "    .dataframe tbody tr th {\n",
              "        vertical-align: top;\n",
              "    }\n",
              "\n",
              "    .dataframe thead th {\n",
              "        text-align: right;\n",
              "    }\n",
              "</style>\n",
              "<table border=\"1\" class=\"dataframe\">\n",
              "  <thead>\n",
              "    <tr style=\"text-align: right;\">\n",
              "      <th></th>\n",
              "      <th>id</th>\n",
              "      <th>img_path</th>\n",
              "      <th>label</th>\n",
              "    </tr>\n",
              "  </thead>\n",
              "  <tbody>\n",
              "    <tr>\n",
              "      <th>0</th>\n",
              "      <td>TRAIN_00000</td>\n",
              "      <td>./train/TRAIN_00000.png</td>\n",
              "      <td>빨간색</td>\n",
              "    </tr>\n",
              "    <tr>\n",
              "      <th>1</th>\n",
              "      <td>TRAIN_00001</td>\n",
              "      <td>./train/TRAIN_00001.png</td>\n",
              "      <td>머</td>\n",
              "    </tr>\n",
              "    <tr>\n",
              "      <th>2</th>\n",
              "      <td>TRAIN_00002</td>\n",
              "      <td>./train/TRAIN_00002.png</td>\n",
              "      <td>차차</td>\n",
              "    </tr>\n",
              "    <tr>\n",
              "      <th>3</th>\n",
              "      <td>TRAIN_00003</td>\n",
              "      <td>./train/TRAIN_00003.png</td>\n",
              "      <td>써</td>\n",
              "    </tr>\n",
              "    <tr>\n",
              "      <th>4</th>\n",
              "      <td>TRAIN_00004</td>\n",
              "      <td>./train/TRAIN_00004.png</td>\n",
              "      <td>놓치다</td>\n",
              "    </tr>\n",
              "    <tr>\n",
              "      <th>...</th>\n",
              "      <td>...</td>\n",
              "      <td>...</td>\n",
              "      <td>...</td>\n",
              "    </tr>\n",
              "    <tr>\n",
              "      <th>204352</th>\n",
              "      <td>TRAIN_76884_2</td>\n",
              "      <td>./train/TRAIN_76884_2.png</td>\n",
              "      <td>겪다</td>\n",
              "    </tr>\n",
              "    <tr>\n",
              "      <th>204353</th>\n",
              "      <td>TRAIN_76885_1</td>\n",
              "      <td>./train/TRAIN_76885_1.png</td>\n",
              "      <td>벨트</td>\n",
              "    </tr>\n",
              "    <tr>\n",
              "      <th>204354</th>\n",
              "      <td>TRAIN_76885_2</td>\n",
              "      <td>./train/TRAIN_76885_2.png</td>\n",
              "      <td>벨트</td>\n",
              "    </tr>\n",
              "    <tr>\n",
              "      <th>204355</th>\n",
              "      <td>TRAIN_76887_1</td>\n",
              "      <td>./train/TRAIN_76887_1.png</td>\n",
              "      <td>자리</td>\n",
              "    </tr>\n",
              "    <tr>\n",
              "      <th>204356</th>\n",
              "      <td>TRAIN_76887_2</td>\n",
              "      <td>./train/TRAIN_76887_2.png</td>\n",
              "      <td>자리</td>\n",
              "    </tr>\n",
              "  </tbody>\n",
              "</table>\n",
              "<p>204357 rows × 3 columns</p>\n",
              "</div>"
            ],
            "text/plain": [
              "                   id                   img_path label\n",
              "0         TRAIN_00000    ./train/TRAIN_00000.png   빨간색\n",
              "1         TRAIN_00001    ./train/TRAIN_00001.png     머\n",
              "2         TRAIN_00002    ./train/TRAIN_00002.png    차차\n",
              "3         TRAIN_00003    ./train/TRAIN_00003.png     써\n",
              "4         TRAIN_00004    ./train/TRAIN_00004.png   놓치다\n",
              "...               ...                        ...   ...\n",
              "204352  TRAIN_76884_2  ./train/TRAIN_76884_2.png    겪다\n",
              "204353  TRAIN_76885_1  ./train/TRAIN_76885_1.png    벨트\n",
              "204354  TRAIN_76885_2  ./train/TRAIN_76885_2.png    벨트\n",
              "204355  TRAIN_76887_1  ./train/TRAIN_76887_1.png    자리\n",
              "204356  TRAIN_76887_2  ./train/TRAIN_76887_2.png    자리\n",
              "\n",
              "[204357 rows x 3 columns]"
            ]
          },
          "execution_count": 10,
          "metadata": {},
          "output_type": "execute_result"
        }
      ],
      "source": [
        "for idx in range(len(df)):\n",
        "    img = Image.open(f'{df[\"img_path\"][idx]}')\n",
        "    label = df['label'][idx]\n",
        "\n",
        "    aug1 = rotate(img)\n",
        "    aug2 = rotate(img)\n",
        "\n",
        "    aug1.save(f'./train/{df[\"id\"][idx]}_1.png', 'png')\n",
        "    aug2.save(f'./train/{df[\"id\"][idx]}_2.png', 'png')\n",
        "\n",
        "    aug_df = pd.DataFrame({\n",
        "        'id' : [f'{df[\"id\"][idx]}_1', f'{df[\"id\"][idx]}_2'],\n",
        "        'img_path': [f'./train/{df[\"id\"][idx]}_1.png', f'./train/{df[\"id\"][idx]}_2.png'],\n",
        "        'label' : [label, label]\n",
        "    })\n",
        "    df = pd.concat([df, aug_df])\n",
        "    df = df.reset_index(drop=True)\n",
        "df"
      ]
    },
    {
      "cell_type": "code",
      "execution_count": 11,
      "metadata": {
        "colab": {
          "base_uri": "https://localhost:8080/",
          "height": 381
        },
        "id": "V_h1IkV-V7xb",
        "outputId": "7c327446-3ea3-4ce9-8ed1-e25e56af66f9"
      },
      "outputs": [
        {
          "ename": "KeyboardInterrupt",
          "evalue": "",
          "output_type": "error",
          "traceback": [
            "\u001b[0;31m---------------------------------------------------------------------------\u001b[0m",
            "\u001b[0;31mKeyboardInterrupt\u001b[0m                         Traceback (most recent call last)",
            "Cell \u001b[0;32mIn[11], line 6\u001b[0m\n\u001b[1;32m      3\u001b[0m label \u001b[39m=\u001b[39m df[\u001b[39m'\u001b[39m\u001b[39mlabel\u001b[39m\u001b[39m'\u001b[39m][idx]\n\u001b[1;32m      4\u001b[0m ar \u001b[39m=\u001b[39m np\u001b[39m.\u001b[39marray(img)\n\u001b[0;32m----> 6\u001b[0m aug1 \u001b[39m=\u001b[39m f1(ar)\n\u001b[1;32m      7\u001b[0m aug2 \u001b[39m=\u001b[39m f2(ar)\n\u001b[1;32m      9\u001b[0m aug1 \u001b[39m=\u001b[39m Image\u001b[39m.\u001b[39mfromarray(aug1)\n",
            "Cell \u001b[0;32mIn[4], line 20\u001b[0m, in \u001b[0;36mf1\u001b[0;34m(src, kernel_size)\u001b[0m\n\u001b[1;32m     16\u001b[0m         kernel_bottom \u001b[39m=\u001b[39m np\u001b[39m.\u001b[39mrandom\u001b[39m.\u001b[39mrandint(\u001b[39m0\u001b[39m,\u001b[39m1\u001b[39m,size\u001b[39m=\u001b[39m[\u001b[39m1\u001b[39m,\u001b[39m3\u001b[39m])\n\u001b[1;32m     18\u001b[0m         kernel \u001b[39m=\u001b[39m np\u001b[39m.\u001b[39mconcatenate((kernel_top, kernel_mid, kernel_bottom))\n\u001b[0;32m---> 20\u001b[0m         filtered_img[i, j] \u001b[39m=\u001b[39m \u001b[39mint\u001b[39m(np\u001b[39m.\u001b[39;49mclip(np\u001b[39m.\u001b[39;49msum(np\u001b[39m.\u001b[39;49mmultiply(src[i\u001b[39m-\u001b[39;49m(kernel_size\u001b[39m/\u001b[39;49m\u001b[39m/\u001b[39;49m\u001b[39m2\u001b[39;49m):i\u001b[39m+\u001b[39;49m(kernel_size\u001b[39m/\u001b[39;49m\u001b[39m/\u001b[39;49m\u001b[39m2\u001b[39;49m)\u001b[39m+\u001b[39;49m\u001b[39m1\u001b[39;49m, j\u001b[39m-\u001b[39;49m(kernel_size\u001b[39m/\u001b[39;49m\u001b[39m/\u001b[39;49m\u001b[39m2\u001b[39;49m):j\u001b[39m+\u001b[39;49m(kernel_size\u001b[39m/\u001b[39;49m\u001b[39m/\u001b[39;49m\u001b[39m2\u001b[39;49m)\u001b[39m+\u001b[39;49m\u001b[39m1\u001b[39;49m, \u001b[39m0\u001b[39;49m], kernel)), \u001b[39m0\u001b[39;49m, \u001b[39m255\u001b[39;49m))\n\u001b[1;32m     22\u001b[0m filtered_img \u001b[39m=\u001b[39m np\u001b[39m.\u001b[39mrepeat(filtered_img, repeats\u001b[39m=\u001b[39m\u001b[39m3\u001b[39m, axis\u001b[39m=\u001b[39m\u001b[39m2\u001b[39m)\n\u001b[1;32m     23\u001b[0m \u001b[39mreturn\u001b[39;00m filtered_img\n",
            "File \u001b[0;32m<__array_function__ internals>:200\u001b[0m, in \u001b[0;36mclip\u001b[0;34m(*args, **kwargs)\u001b[0m\n",
            "\u001b[0;31mKeyboardInterrupt\u001b[0m: "
          ]
        }
      ],
      "source": [
        "for idx in range(len(df)):\n",
        "    img = Image.open(f'{df[\"img_path\"][idx]}')\n",
        "    label = df['label'][idx]\n",
        "    ar = np.array(img)\n",
        "\n",
        "    aug1 = f1(ar)\n",
        "    aug2 = f2(ar)\n",
        "\n",
        "    aug1 = Image.fromarray(aug1)\n",
        "    aug2 = Image.fromarray(aug2)\n",
        "\n",
        "    aug1.save(f'./train/{df[\"id\"][idx]}_a.png', 'png')\n",
        "    aug2.save(f'./train/{df[\"id\"][idx]}_b.png', 'png')\n",
        "\n",
        "    aug_df = pd.DataFrame({\n",
        "        'id' : [f'{df[\"id\"][idx]}_a', f'{df[\"id\"][idx]}_b'],\n",
        "        'img_path': [f'./train/{df[\"id\"][idx]}_a.png', f'./train/{df[\"id\"][idx]}_b.png'],\n",
        "        'label' : [label, label]\n",
        "    })\n",
        "    df = pd.concat([df, aug_df])\n",
        "    df = df.reset_index(drop=True)\n",
        "df"
      ]
    },
    {
      "cell_type": "code",
      "execution_count": 12,
      "metadata": {},
      "outputs": [
        {
          "data": {
            "text/html": [
              "<div>\n",
              "<style scoped>\n",
              "    .dataframe tbody tr th:only-of-type {\n",
              "        vertical-align: middle;\n",
              "    }\n",
              "\n",
              "    .dataframe tbody tr th {\n",
              "        vertical-align: top;\n",
              "    }\n",
              "\n",
              "    .dataframe thead th {\n",
              "        text-align: right;\n",
              "    }\n",
              "</style>\n",
              "<table border=\"1\" class=\"dataframe\">\n",
              "  <thead>\n",
              "    <tr style=\"text-align: right;\">\n",
              "      <th></th>\n",
              "      <th>id</th>\n",
              "      <th>img_path</th>\n",
              "      <th>label</th>\n",
              "    </tr>\n",
              "  </thead>\n",
              "  <tbody>\n",
              "    <tr>\n",
              "      <th>0</th>\n",
              "      <td>TRAIN_00000</td>\n",
              "      <td>./train/TRAIN_00000.png</td>\n",
              "      <td>빨간색</td>\n",
              "    </tr>\n",
              "    <tr>\n",
              "      <th>1</th>\n",
              "      <td>TRAIN_00001</td>\n",
              "      <td>./train/TRAIN_00001.png</td>\n",
              "      <td>머</td>\n",
              "    </tr>\n",
              "    <tr>\n",
              "      <th>2</th>\n",
              "      <td>TRAIN_00002</td>\n",
              "      <td>./train/TRAIN_00002.png</td>\n",
              "      <td>차차</td>\n",
              "    </tr>\n",
              "    <tr>\n",
              "      <th>3</th>\n",
              "      <td>TRAIN_00003</td>\n",
              "      <td>./train/TRAIN_00003.png</td>\n",
              "      <td>써</td>\n",
              "    </tr>\n",
              "    <tr>\n",
              "      <th>4</th>\n",
              "      <td>TRAIN_00004</td>\n",
              "      <td>./train/TRAIN_00004.png</td>\n",
              "      <td>놓치다</td>\n",
              "    </tr>\n",
              "    <tr>\n",
              "      <th>...</th>\n",
              "      <td>...</td>\n",
              "      <td>...</td>\n",
              "      <td>...</td>\n",
              "    </tr>\n",
              "    <tr>\n",
              "      <th>494214</th>\n",
              "      <td>TRAIN_43380_2_b</td>\n",
              "      <td>./train/TRAIN_43380_2_b.png</td>\n",
              "      <td>치다</td>\n",
              "    </tr>\n",
              "    <tr>\n",
              "      <th>494215</th>\n",
              "      <td>TRAIN_43381_1_a</td>\n",
              "      <td>./train/TRAIN_43381_1_a.png</td>\n",
              "      <td>곳</td>\n",
              "    </tr>\n",
              "    <tr>\n",
              "      <th>494216</th>\n",
              "      <td>TRAIN_43381_1_b</td>\n",
              "      <td>./train/TRAIN_43381_1_b.png</td>\n",
              "      <td>곳</td>\n",
              "    </tr>\n",
              "    <tr>\n",
              "      <th>494217</th>\n",
              "      <td>TRAIN_43381_2_a</td>\n",
              "      <td>./train/TRAIN_43381_2_a.png</td>\n",
              "      <td>곳</td>\n",
              "    </tr>\n",
              "    <tr>\n",
              "      <th>494218</th>\n",
              "      <td>TRAIN_43381_2_b</td>\n",
              "      <td>./train/TRAIN_43381_2_b.png</td>\n",
              "      <td>곳</td>\n",
              "    </tr>\n",
              "  </tbody>\n",
              "</table>\n",
              "<p>494219 rows × 3 columns</p>\n",
              "</div>"
            ],
            "text/plain": [
              "                     id                     img_path label\n",
              "0           TRAIN_00000      ./train/TRAIN_00000.png   빨간색\n",
              "1           TRAIN_00001      ./train/TRAIN_00001.png     머\n",
              "2           TRAIN_00002      ./train/TRAIN_00002.png    차차\n",
              "3           TRAIN_00003      ./train/TRAIN_00003.png     써\n",
              "4           TRAIN_00004      ./train/TRAIN_00004.png   놓치다\n",
              "...                 ...                          ...   ...\n",
              "494214  TRAIN_43380_2_b  ./train/TRAIN_43380_2_b.png    치다\n",
              "494215  TRAIN_43381_1_a  ./train/TRAIN_43381_1_a.png     곳\n",
              "494216  TRAIN_43381_1_b  ./train/TRAIN_43381_1_b.png     곳\n",
              "494217  TRAIN_43381_2_a  ./train/TRAIN_43381_2_a.png     곳\n",
              "494218  TRAIN_43381_2_b  ./train/TRAIN_43381_2_b.png     곳\n",
              "\n",
              "[494219 rows x 3 columns]"
            ]
          },
          "execution_count": 12,
          "metadata": {},
          "output_type": "execute_result"
        }
      ],
      "source": [
        "df"
      ]
    },
    {
      "cell_type": "code",
      "execution_count": 13,
      "metadata": {
        "id": "Rv0eE2FXJ7Gn"
      },
      "outputs": [],
      "source": [
        "df.to_csv('./train_pt.csv', index=False)"
      ]
    },
    {
      "cell_type": "code",
      "execution_count": null,
      "metadata": {
        "id": "d-YcQ4BbLY2B"
      },
      "outputs": [],
      "source": [
        "# !zip -r /content/drive/MyDrive/OCR/trainset/trainset_pt.zip /content/train_pt.csv /content/train/d"
      ]
    },
    {
      "cell_type": "code",
      "execution_count": null,
      "metadata": {
        "id": "3NHTcP5BMOf2"
      },
      "outputs": [],
      "source": []
    }
  ],
  "metadata": {
    "colab": {
      "provenance": []
    },
    "gpuClass": "standard",
    "kernelspec": {
      "display_name": "tr",
      "language": "python",
      "name": "python3"
    },
    "language_info": {
      "codemirror_mode": {
        "name": "ipython",
        "version": 3
      },
      "file_extension": ".py",
      "mimetype": "text/x-python",
      "name": "python",
      "nbconvert_exporter": "python",
      "pygments_lexer": "ipython3",
      "version": "3.8.15"
    },
    "vscode": {
      "interpreter": {
        "hash": "598e2b649b1c3efd0ae38743a00f9b0d7d940b0b39ed7e150c7c381723da0e7f"
      }
    }
  },
  "nbformat": 4,
  "nbformat_minor": 0
}
